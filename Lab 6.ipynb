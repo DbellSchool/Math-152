{
 "cells": [
  {
   "cell_type": "code",
   "execution_count": 26,
   "metadata": {},
   "outputs": [],
   "source": [
    "# Lab 6\n",
    "\n",
    "#TA : Alex\n",
    "\n",
    "# Leilani Wilkinson, David Bell, Harrison LaCroix, Xavier Flores\n",
    "# http://calclab.math.tamu.edu/Python/LabSched152.html\n",
    "\n",
    "import matplotlib.pyplot as plt\n",
    "from sympy import *"
   ]
  },
  {
   "cell_type": "code",
   "execution_count": 27,
   "metadata": {},
   "outputs": [
    {
     "name": "stdout",
     "output_type": "stream",
     "text": [
      "s**(-2)\n",
      "2/s**3\n",
      "6/s**4\n",
      "24/s**5\n",
      "A formula for the Laplace Transform is n!/s^(n+1)\n",
      "Laplace Transform of t^10 is 3628800/s**11\n"
     ]
    }
   ],
   "source": [
    "#Question 1\n",
    "#Part A\n",
    "f,s,t = symbols('f s t',positive=True)\n",
    "F = exp(-s*t)*f\n",
    "print(integrate(F.subs(f,t), (t,0,oo)))\n",
    "#Part B\n",
    "print(integrate(F.subs(f,t**2), (t,0,oo)))\n",
    "#Part C\n",
    "print(integrate(F.subs(f,t**3), (t,0,oo)))\n",
    "#Part D\n",
    "print(integrate(F.subs(f,t**4), (t,0,oo)))\n",
    "\n",
    "#Part E\n",
    "print(\"A formula for the Laplace Transform is n!/s^(n+1)\")\n",
    "print(\"Laplace Transform of t^10 is\",integrate(F.subs(f,t**10), (t,0,oo)))\n",
    "\n",
    "\n"
   ]
  },
  {
   "cell_type": "code",
   "execution_count": 28,
   "metadata": {},
   "outputs": [
    {
     "name": "stdout",
     "output_type": "stream",
     "text": [
      "The list of terms is [0, 0.606111934732855, 0.832352909060798, 0.945886379973496, 1.01483690649416, 1.06174748050213, 1.09609196520771, 1.12254648161274, 1.14369309269278, 1.16107958268582]\n",
      "I predict that the limit is 1.2\n",
      "I predict that the limit is 1.4\n",
      "The limit of the sequence is pi/2 , approximately 1.57079632679490\n"
     ]
    },
    {
     "data": {
      "image/png": "[encoded data removed]",
      "text/plain": [
       "<Figure size 432x288 with 1 Axes>"
      ]
     },
     "metadata": {
      "needs_background": "light"
     },
     "output_type": "display_data"
    }
   ],
   "source": [
    "#Question 2\n",
    "#Part A\n",
    "n = symbols('n',integer=True)\n",
    "a = atan(log(n)) #sequence\n",
    "a1_10 = [(a.subs({n:i})).evalf() for i in range(1,11)]\n",
    "print(\"The list of terms is\",a1_10)\n",
    "print(\"I predict that the limit is 1.2\")\n",
    "\n",
    "#Part B\n",
    "import matplotlib.pyplot as plt\n",
    "nvals = range(1,51)\n",
    "a1_50 = [a.subs({n:i}) for i in nvals]\n",
    "plt.plot(nvals,a1_50,'ro')\n",
    "print(\"I predict that the limit is 1.4\")\n",
    "\n",
    "#Part C\n",
    "L = limit(a,n,oo)\n",
    "print(\"The limit of the sequence is\",L,\", approximately\",L.evalf())"
   ]
  },
  {
   "cell_type": "code",
   "execution_count": null,
   "metadata": {},
   "outputs": [],
   "source": [
    "#Question 3\n",
    "#A\n",
    "#B\n",
    "#C\n",
    "#D"
   ]
  },
  {
   "cell_type": "code",
   "execution_count": 29,
   "metadata": {},
   "outputs": [
    {
     "name": "stdout",
     "output_type": "stream",
     "text": [
      "dy/dn(9/10)**n = (9/10)**n ln(9/10) \n",
      "lim as \n",
      "n--> OO of 1/n is 0\n",
      "lim as \n",
      "n--> OO of (9/10)^n is 0\n",
      "lim as \n",
      "n--> OO  0.9**n/n  is 0\n"
     ]
    },
    {
     "data": {
      "text/plain": [
       "<matplotlib.collections.PathCollection at 0x276e80c4d88>"
      ]
     },
     "execution_count": 29,
     "metadata": {},
     "output_type": "execute_result"
    },
    {
     "data": {
      "image/png": "[encoded data removed]",
      "text/plain": [
       "<Figure size 432x288 with 1 Axes>"
      ]
     },
     "metadata": {
      "needs_background": "light"
     },
     "output_type": "display_data"
    }
   ],
   "source": [
    "#Question 4\n",
    "n,x = symbols('n x')\n",
    "an = (9/10)**n/n\n",
    "\n",
    "\n",
    "\n",
    "#A\n",
    "print(\"dy/dn(9/10)**n = (9/10)**n ln(9/10) \")\n",
    "print(\"lim as \\nn--> OO of 1/n is 0\")\n",
    "print(\"lim as \\nn--> OO of (9/10)^n is 0\")\n",
    "print(\"lim as \\nn--> OO \",an,\" is 0\")\n",
    "\n",
    "#B\n",
    "#an.subs(n,i)\n",
    "\n",
    "x  = [i+1 for i in range(50)]\n",
    "y1 = [an.subs({n:i}) for i in x]\n",
    "C  = 0\n",
    "y2 = []\n",
    "for i in y1:\n",
    "    C = C+i\n",
    "    y2.append(C)\n",
    "    \n",
    "import matplotlib.pyplot as plt\n",
    "plt.scatter(x,y1)\n",
    "plt.scatter(x,y2)\n",
    "\n",
    "#C"
   ]
  },
  {
   "cell_type": "code",
   "execution_count": 10,
   "metadata": {},
   "outputs": [],
   "source": [
    "# End"
   ]
  }
 ],
 "metadata": {
  "kernelspec": {
   "display_name": "Python 3",
   "language": "python",
   "name": "python3"
  },
  "language_info": {
   "codemirror_mode": {
    "name": "ipython",
    "version": 3
   },
   "file_extension": ".py",
   "mimetype": "text/x-python",
   "name": "python",
   "nbconvert_exporter": "python",
   "pygments_lexer": "ipython3",
   "version": "3.7.4"
  }
 },
 "nbformat": 4,
 "nbformat_minor": 2
}
