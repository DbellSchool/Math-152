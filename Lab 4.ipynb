{
 "cells": [
  {
   "cell_type": "code",
   "execution_count": 3,
   "metadata": {},
   "outputs": [],
   "source": [
    "# Lab 3 \n",
    "\n",
    "#TA : Alex\n",
    "\n",
    "# Leilani Wilkinson, David Bell, Harrison LaCroix, Xavier Flores\n",
    "# http://calclab.math.tamu.edu/Python/LabSched152.html\n",
    "\n",
    "import matplotlib.pyplot as plt\n",
    "from numpy import * \n",
    "import sympy as sp"
   ]
  },
  {
   "cell_type": "code",
   "execution_count": null,
   "metadata": {},
   "outputs": [],
   "source": [
    "# Part 1"
   ]
  },
  {
   "cell_type": "code",
   "execution_count": null,
   "metadata": {},
   "outputs": [],
   "source": [
    "#Part 2"
   ]
  },
  {
   "cell_type": "code",
   "execution_count": null,
   "metadata": {},
   "outputs": [],
   "source": [
    "#Part 3"
   ]
  },
  {
   "cell_type": "code",
   "execution_count": 20,
   "metadata": {},
   "outputs": [
    {
     "name": "stdout",
     "output_type": "stream",
     "text": [
      "the value of the tepazoidal aproximation is 1.21175764053560\n",
      "the rigt Aproxiamtion is: 1.18073241415531\n",
      "the left Aproxiamtion is: 1.24278286691589\n",
      "the average aproximation is: 1.21175764053560\n",
      "the diffrence between left and right aproximation is\n",
      " 0 \n",
      "So they is equal\n"
     ]
    },
    {
     "data": {
      "image/png": "[encoded data removed]",
      "text/plain": [
       "<Figure size 432x288 with 1 Axes>"
      ]
     },
     "metadata": {
      "needs_background": "light"
     },
     "output_type": "display_data"
    },
    {
     "data": {
      "text/plain": [
       "[<matplotlib.lines.Line2D at 0x1f5fe3ba0c8>]"
      ]
     },
     "execution_count": 20,
     "metadata": {},
     "output_type": "execute_result"
    },
    {
     "data": {
      "image/png": "[encoded data removed]",
      "text/plain": [
       "<Figure size 432x288 with 1 Axes>"
      ]
     },
     "metadata": {
      "needs_background": "light"
     },
     "output_type": "display_data"
    }
   ],
   "source": [
    "#Part 4\n",
    "from scipy.integrate import trapz \n",
    "# Part A\n",
    "x=sp.symbols('x')\n",
    "dx=(5-1)/100\n",
    "\n",
    "\n",
    "x_t=arange(1,5+dx,dx) \n",
    "y_t=sp.E**(x_t/2)/x_t**3\n",
    "Trap_Aprox=trapz(y_t,x=x_t,dx=dx)\n",
    "print(\"the value of the tepazoidal aproximation is\",Trap_Aprox)\n",
    "\n",
    "\n",
    "# Part B\n",
    "x_l=arange(1,5,dx) # \n",
    "y_l=sp.E**(x_l/2)/x_l**3\n",
    "left_Aprox = sum(y_l)*dx\n",
    "\n",
    "x_r=arange(1+dx,5+dx,dx) \n",
    "y_r=sp.E**(x_r/2)/x_r**3\n",
    "right_Aprox = sum(y_r)*dx\n",
    "\n",
    "\n",
    "aprox = (left_Aprox+right_Aprox)/2\n",
    "print(\"the rigt Aproxiamtion is:\",right_Aprox)\n",
    "print(\"the left Aproxiamtion is:\",left_Aprox)\n",
    "print(\"the average aproximation is:\", aprox)\n",
    "print(\"the diffrence between left and right aproximation is\\n\",abs(aprox-Trap_Aprox),\"\\nSo they is equal\")\n",
    "\n",
    "\n",
    "\n",
    "# Part C\n",
    "\n",
    "x=sp.symbols(\"x\") \n",
    "f=sp.exp(x/2)/x**3 \n",
    "sp.plot(f,(x,1,5)) \n",
    "xp=[1,2,3,4,5] \n",
    "yp=[f.subs({x:i}) for i in xp] \n",
    "\n",
    "# imports \n",
    "import matplotlib.pyplot as plt\n",
    "plt.plot(xp,yp)"
   ]
  },
  {
   "cell_type": "code",
   "execution_count": 14,
   "metadata": {},
   "outputs": [
    {
     "name": "stdout",
     "output_type": "stream",
     "text": [
      "The approximation with Simpson's Rule for 100 subintervals is: 1.21121065128460\n",
      "The error is -1.02678460200956e-6\n"
     ]
    }
   ],
   "source": [
    "#Part 5\n",
    "from scipy.integrate import simps \n",
    "x=sp.symbols('x')\n",
    "dx=(5-1)/100\n",
    " \n",
    "\n",
    "x_i=arange(1,5+dx,dx) \n",
    "y_i=sp.E**(x_i/2)/x_i**3\n",
    "S100=simps(y_i,x_i) #Notice the arguments: y-values, THEN x-values print(\"The approximation with Simpson's Rule for 10 subintervals is\",S10)\n",
    "print(\"The approximation with Simpson's Rule for 100 subintervals is:\",S100)\n",
    "\n",
    "\n",
    "#b\n",
    "error = 1.2112096245-S100\n",
    "print(\"The error is\", error)"
   ]
  },
  {
   "cell_type": "code",
   "execution_count": null,
   "metadata": {},
   "outputs": [],
   "source": [
    "#END"
   ]
  }
 ],
 "metadata": {
  "kernelspec": {
   "display_name": "Python 3",
   "language": "python",
   "name": "python3"
  },
  "language_info": {
   "codemirror_mode": {
    "name": "ipython",
    "version": 3
   },
   "file_extension": ".py",
   "mimetype": "text/x-python",
   "name": "python",
   "nbconvert_exporter": "python",
   "pygments_lexer": "ipython3",
   "version": "3.7.4"
  }
 },
 "nbformat": 4,
 "nbformat_minor": 2
}
