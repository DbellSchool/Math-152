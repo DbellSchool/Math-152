{
 "cells": [
  {
   "cell_type": "code",
   "execution_count": 2,
   "metadata": {},
   "outputs": [],
   "source": [
    "# Math 152\n",
    "# Lab 3 \n",
    "\n",
    "#TA : Alex\n",
    "\n",
    "# Leilani Wilkinson, David Bell, Harrison LaCroix, Xavier Flores\n",
    "# http://calclab.math.tamu.edu/Python/LabSched152.html\n",
    "\n",
    "import matplotlib.pyplot as plt\n",
    "from sympy import *\n",
    "#from math import exp, sin, pi\n",
    "from sympy.plotting import (plot, plot_parametric,plot3d_parametric_surface, plot3d_parametric_line,plot3d)\n"
   ]
  },
  {
   "cell_type": "code",
   "execution_count": 40,
   "metadata": {},
   "outputs": [
    {
     "name": "stdout",
     "output_type": "stream",
     "text": [
      "The spring constant, k, is 1.28263857077416 N/m\n",
      "a is 3.00107123731320 meters beyond its natural length\n"
     ]
    }
   ],
   "source": [
    "# Part 1\n",
    "\n",
    "\n",
    "a,k,x = symbols('a k x')\n",
    "force = k*x #equation of force\n",
    "work = integrate(force, (x,1.1,4.8)) #known beginning and very end, but not a\n",
    "spring = solve(14-work,k) #finds k\n",
    "\n",
    "print(\"The spring constant, k, is\",spring[0],\"N/m\")\n",
    "\n",
    "solu = integrate(force.subs(k, 1.28263857077416), (x,1.1,a))\n",
    "a = solve(5-solu,a) #finds a\n",
    "\n",
    "print(\"a is\",a[1],\"meters beyond its natural length\")\n",
    "\n",
    "\n"
   ]
  },
  {
   "cell_type": "code",
   "execution_count": 41,
   "metadata": {},
   "outputs": [
    {
     "name": "stdout",
     "output_type": "stream",
     "text": [
      "The work required to pump all the water out of the tank is 198450.0*pi Joules\n",
      "The work required to pump to a depth of h is 2450.0*pi*h**4 - 44100.0*pi*h**2 + 198450.0*pi\n"
     ]
    }
   ],
   "source": [
    "# Part 2\n",
    "\n",
    "# A\n",
    "\n",
    "h,y = symbols('h y',real=True)\n",
    "Fslice = pi*(3**2-y**2)\n",
    "Wslice = Fslice*1000*9.8*y\n",
    "work = integrate(Wslice, (y,0,3))\n",
    "print(\"The work required to pump all the water out of the tank is\",work,\"Joules\")\n",
    "\n",
    "# B\n",
    "\n",
    "Work = integrate(Wslice, (y,h,3))\n",
    "print(\"The work required to pump to a depth of h is\",Work)\n",
    "\n",
    "# C\n",
    "\n"
   ]
  },
  {
   "cell_type": "code",
   "execution_count": 5,
   "metadata": {},
   "outputs": [
    {
     "data": {
      "image/png": "[encoded data removed]",
      "text/plain": [
       "<Figure size 432x288 with 1 Axes>"
      ]
     },
     "metadata": {
      "needs_background": "light"
     },
     "output_type": "display_data"
    },
    {
     "name": "stdout",
     "output_type": "stream",
     "text": [
      "the volume is: pi**3/8\n",
      "the  Area  is:  pi/8\n",
      "\n",
      "the center of mass is located at: ( pi/2  ,  0.406250000000000 )\n",
      "This makes sense because the center of mass x value should be in the middle of the bound because there is an equal are on each side of the mass.\n",
      " The Y Val should be lower than 0.5 because the distance between the curves is grater at lower y values.\n",
      "\n",
      "The center of masss travles : pi**2\n"
     ]
    }
   ],
   "source": [
    "# Part 3\n",
    "x,y = symbols('x y')\n",
    "\n",
    "f1 = (sin(x))**2\n",
    "f2 = (sin(x))**4\n",
    "a = 0\n",
    "b = pi\n",
    "\n",
    "# A \n",
    "g   = plot(f1,(x,a,b),show = False)\n",
    "gg  = plot(f2,(x,a,b),show = False)\n",
    "g.extend(gg)\n",
    "g.show()\n",
    "\n",
    "V  = pi*2*integrate((f1-f2)*(pi-x),(x,a,b))  # cilinder method\n",
    "print(\"the volume is:\",V)\n",
    "\n",
    "# B\n",
    "ff1 = integrate((f1),(x,a,b)) \n",
    "ff2 = integrate((f2),(x,a,b)) \n",
    "A = ff1-ff2\n",
    "print(\"the  Area  is: \",A)\n",
    "print()\n",
    "\n",
    "# C\n",
    "Xi = 1/A * integrate(x*(f1-f2),(x,a,b)) \n",
    "Yi = 1/A * integrate(0.5*(f1**2-f2**2),(x,a,b)) \n",
    "\n",
    "print(\"the center of mass is located at: (\",Xi,\" , \",Yi,\")\" )\n",
    "print(\"This makes sense because the center of mass x value should be in the middle of the bound because there is an equal are on each side of the mass.\\n The Y Val should be lower than 0.5 because the distance between the curves is grater at lower y values.\\n\")\n",
    "\n",
    "# D \n",
    "r_travled=pi-Xi\n",
    "r_travled=pi*r_travled*2\n",
    "\n",
    "print(\"The center of masss travles :\", r_travled)"
   ]
  },
  {
   "cell_type": "code",
   "execution_count": 43,
   "metadata": {},
   "outputs": [],
   "source": [
    "# END"
   ]
  }
 ],
 "metadata": {
  "kernelspec": {
   "display_name": "Python 3",
   "language": "python",
   "name": "python3"
  },
  "language_info": {
   "codemirror_mode": {
    "name": "ipython",
    "version": 3
   },
   "file_extension": ".py",
   "mimetype": "text/x-python",
   "name": "python",
   "nbconvert_exporter": "python",
   "pygments_lexer": "ipython3",
   "version": "3.7.4"
  }
 },
 "nbformat": 4,
 "nbformat_minor": 2
}
