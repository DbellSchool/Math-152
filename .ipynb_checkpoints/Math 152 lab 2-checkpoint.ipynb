{
 "cells": [
  {
   "cell_type": "code",
   "execution_count": 4,
   "metadata": {},
   "outputs": [],
   "source": [
    "# Math 152\n",
    "# Lab 1 \n",
    "\n",
    "#TA : Alex\n",
    "\n",
    "#David Bell\n",
    "\n",
    "# http://calclab.math.tamu.edu/Python/LabSched152.html\n",
    "\n",
    "from sympy import *\n",
    "#from math import exp, sin, pi\n",
    "from sympy.plotting import (plot, plot_parametric,plot3d_parametric_surface, plot3d_parametric_line,plot3d)\n"
   ]
  },
  {
   "cell_type": "code",
   "execution_count": 18,
   "metadata": {},
   "outputs": [
    {
     "name": "stdout",
     "output_type": "stream",
     "text": [
      "pi/2\n",
      "sqrt(2)/2\n"
     ]
    }
   ],
   "source": [
    "# Part 1\n",
    "# Part A\n",
    "#c=symbols('c')\n",
    "#cval=solve(Volc-5,c)\n",
    "\n",
    "\n",
    "x = symbols('x')\n",
    "y = sin(x)\n",
    "y = cos(x)\n",
    "\n",
    "#solve(acos(x)-asin(x),x)\n",
    "\n",
    "f = pi*((cos(x))**2-(sin(x))**2)\n",
    "F = integrate(f,(x,0,pi/4)) # bounds are 0 and pi/4\n",
    "print(F)\n",
    "\n",
    "\n",
    "fs = 2*pi*sin(x)\n",
    "fc = 2*pi*cos(x)\n",
    "mid_b = cos(pi/4)\n",
    "\n",
    "F2 = integrate(fs,(x,0,mid_b)) # bounds are 0 and pi/4\n",
    "F3 = integrate(fc,(x,mid_b,1)) # bounds are 0 and pi/4\n",
    "\n",
    "\n",
    "\n"
   ]
  },
  {
   "cell_type": "code",
   "execution_count": 21,
   "metadata": {},
   "outputs": [],
   "source": [
    "#Part 2\n",
    "x = symbols('x')\n",
    "\n",
    "a = symbols('a')\n",
    "b = symbols('b')\n",
    "c = symbols('c')\n",
    "\n",
    "\n",
    "\n",
    "ftop = (a*x**3+b*x**2+c**x)\n",
    "fbot = (1-x**2)**(1/2)\n",
    "\n",
    "ftop_b = ftop.subs({a:-.06,b: .04,c:.1})\n",
    "\n"
   ]
  }
 ],
 "metadata": {
  "kernelspec": {
   "display_name": "Python 3",
   "language": "python",
   "name": "python3"
  },
  "language_info": {
   "codemirror_mode": {
    "name": "ipython",
    "version": 3
   },
   "file_extension": ".py",
   "mimetype": "text/x-python",
   "name": "python",
   "nbconvert_exporter": "python",
   "pygments_lexer": "ipython3",
   "version": "3.7.4"
  }
 },
 "nbformat": 4,
 "nbformat_minor": 2
}
