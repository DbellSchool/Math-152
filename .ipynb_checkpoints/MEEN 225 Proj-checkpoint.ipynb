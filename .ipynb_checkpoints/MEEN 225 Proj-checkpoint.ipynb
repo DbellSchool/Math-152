{
 "cells": [
  {
   "cell_type": "code",
   "execution_count": 51,
   "metadata": {},
   "outputs": [
    {
     "name": "stdout",
     "output_type": "stream",
     "text": [
      "tl = 81.93451151369264\n",
      "s  = 6.827875959474387\n",
      "O  = 2.0690533210528446\n",
      "periods are:| 0 | 4.481627988209031 | 6.0 | 10.48162798820903 | 12.0\n",
      "Test: -1.00000000000000\n"
     ]
    },
    {
     "data": {
      "text/plain": [
       "[<matplotlib.lines.Line2D at 0x237a068bec8>]"
      ]
     },
     "execution_count": 51,
     "metadata": {},
     "output_type": "execute_result"
    },
    {
     "data": {
      "image/png": "[encoded data removed]",
      "text/plain": [
       "<Figure size 432x288 with 1 Axes>"
      ]
     },
     "metadata": {
      "needs_background": "light"
     },
     "output_type": "display_data"
    }
   ],
   "source": [
    "import sympy as sp\n",
    "from math import pi\n",
    "import numpy as np\n",
    "import matplotlib.pyplot as plt\n",
    "\n",
    "wc = 5\n",
    "wb = 6\n",
    "\n",
    "l = 30.6\n",
    "r = 3.3\n",
    "h = 4.4\n",
    "w = 7.3\n",
    "\n",
    "tl = 2*l +2*pi*r\n",
    "s = tl*wc/60\n",
    "o = s/r\n",
    "a = pi/2\n",
    "print(\"tl =\", tl)\n",
    "print(\"s  =\" ,s )\n",
    "print(\"O  =\" , o)\n",
    "\n",
    "t0 =0\n",
    "t1 = l/s\n",
    "t2 = t1+ pi*r/s\n",
    "t3 = t2+ l/s\n",
    "t4 = t3 + pi*r/s\n",
    "print(\"periods are:|\",t0,\"|\",t1,\"|\",t2,\"|\",t3,\"|\",t4)\n",
    "\n",
    "t = sp.symbols('t')\n",
    "print(\"Test:\",sp.cos(pi))\n",
    "\n",
    "\n",
    "tvals =[i for i in np.arange(0,12,0.1)] # range of graph\n",
    "# Zone 1\n",
    "rx1 = (r+h)\n",
    "ry1 = (s*t-l/2+w/2)\n",
    "# zone 2\n",
    "rx2 = (r+h)*sp.cos(o*(t-t1))+w/2*(sp.cos(o*(t-t1)+pi/2))\n",
    "ry2 = l/2 + (r+h)*sp.sin(o*(t-t1))+w/2*(sp.sin(o*(t-t1)+pi/2))\n",
    "# Zone 3\n",
    "rx3 = -1*(r+h)\n",
    "ry3 = -1*(s*(t-t2)-l/2+w/2)\n",
    "\n",
    "# zone 4\n",
    "rx4 = -1*((r+h)*sp.cos(o*(t-t3))+w/2*(sp.cos(o*(t-t3)+pi/2)))\n",
    "ry4 = -1*(l/2 + (r+h)*sp.sin(o*(t-t3))+w/2*(sp.sin(o*(t-t3)+pi/2)))\n",
    "\n",
    "x = []\n",
    "y = []\n",
    "\n",
    "for i in tvals:\n",
    "    if (i%12>=0 and i%12< t1):\n",
    "        x.append(rx1)\n",
    "        y.append(ry1.subs({t:i}))\n",
    "    elif(i%12>=t1 and i%12< t2):\n",
    "        x.append(rx2.subs({t:i}))\n",
    "        y.append(ry2.subs({t:i}))\n",
    "    elif(i%12>=t2 and i%12< t3):\n",
    "        x.append(rx3)\n",
    "        y.append(ry3.subs({t:i}))\n",
    "    elif(i%12>=t3):\n",
    "        x.append(rx4.subs({t:i}))\n",
    "        y.append(ry4.subs({t:i}))\n",
    "plt.plot(x, y,'o')\n",
    "#plt.plot(x,y)        \n"
   ]
  },
  {
   "cell_type": "code",
   "execution_count": 67,
   "metadata": {},
   "outputs": [
    {
     "name": "stdout",
     "output_type": "stream",
     "text": [
      "tl = 81.93451151369264\n",
      "s  = 6.827875959474387\n",
      "O  = 2.0690533210528446\n",
      "periods are:| 0 | 4.481627988209031 | 6.0 | 10.48162798820903 | 12.0\n",
      "Test: -1.00000000000000\n"
     ]
    },
    {
     "data": {
      "text/plain": [
       "[<matplotlib.lines.Line2D at 0x237a180ca88>]"
      ]
     },
     "execution_count": 67,
     "metadata": {},
     "output_type": "execute_result"
    },
    {
     "data": {
      "image/png": "[encoded data removed]",
      "text/plain": [
       "<Figure size 432x288 with 1 Axes>"
      ]
     },
     "metadata": {
      "needs_background": "light"
     },
     "output_type": "display_data"
    }
   ],
   "source": [
    "import sympy as sp\n",
    "from math import pi\n",
    "import numpy as np\n",
    "import matplotlib.pyplot as plt\n",
    "\n",
    "wc = 5\n",
    "wb = 6\n",
    "\n",
    "l = 30.6\n",
    "r = 3.3\n",
    "h = 4.4\n",
    "w = 7.3\n",
    "\n",
    "tl = 2*l +2*pi*r\n",
    "s = tl*wc/60\n",
    "o = s/r\n",
    "a = pi/5\n",
    "print(\"tl =\", tl)\n",
    "print(\"s  =\" ,s )\n",
    "print(\"O  =\" , o)\n",
    "\n",
    "t0 =0\n",
    "t1 = l/s\n",
    "t2 = t1+ pi*r/s\n",
    "t3 = t2+ l/s\n",
    "t4 = t3 + pi*r/s\n",
    "print(\"periods are:|\",t0,\"|\",t1,\"|\",t2,\"|\",t3,\"|\",t4)\n",
    "\n",
    "t = sp.symbols('t')\n",
    "print(\"Test:\",sp.cos(pi))\n",
    "\n",
    "\n",
    "tvals   = [i for i in np.arange(0,120,0.1)] # range of graph\n",
    "#TMODval = [i%12 for i in np.arange(0,24,0.1)] # range of graph\n",
    "# Zone 1\n",
    "#p\n",
    "px1 = (r+h)\n",
    "py1 = (s*(t%12)-l/2+w/2)\n",
    "#pr\n",
    "prx1 = px1*sp.cos(a*t)-py1*sp.sin(a*t)\n",
    "pry1 = px1*sp.sin(a*t)+py1*sp.cos(a*t)\n",
    "# zone 2\n",
    "px2 = (r+h)*sp.cos(o*(t%12-t1))+w/2*(sp.cos(o*(t%12-t1)+pi/2))\n",
    "py2 = l/2 + (r+h)*sp.sin(o*(t%12-t1))+w/2*(sp.sin(o*(t%12-t1)+pi/2))\n",
    "#pr\n",
    "prx2 = px2*sp.cos(a*t)-py2*sp.sin(a*t)\n",
    "pry2 = px2*sp.sin(a*t)+py2*sp.cos(a*t)\n",
    "# Zone 3\n",
    "px3 = -1*(r+h)\n",
    "py3 = -1*(s*(t%12-t2)-l/2+w/2)\n",
    "#pr\n",
    "prx3 = px3*sp.cos(a*t)-py3*sp.sin(a*t)\n",
    "pry3 = px3*sp.sin(a*t)+py3*sp.cos(a*t)\n",
    "\n",
    "# zone 4\n",
    "px4 = -1*((r+h)*sp.cos(o*(t%12-t3))+w/2*(sp.cos(o*(t%12-t3)+pi/2)))\n",
    "py4 = -1*(l/2 + (r+h)*sp.sin(o*(t%12-t3))+w/2*(sp.sin(o*(t%12-t3)+pi/2)))\n",
    "# pr\n",
    "prx4 = px4*sp.cos(a*t)-py4*sp.sin(a*t)\n",
    "pry4 = px4*sp.sin(a*t)+py4*sp.cos(a*t)\n",
    "\n",
    "x = []\n",
    "y = []\n",
    "\n",
    "for i in tvals:\n",
    "    if (i%12>=0 and i%12< t1):\n",
    "        x.append(prx1.subs({t:i}))\n",
    "        y.append(pry1.subs({t:i}))\n",
    "    elif(i%12>=t1 and i%12< t2):\n",
    "        x.append(prx2.subs({t:i}))\n",
    "        y.append(pry2.subs({t:i}))\n",
    "    elif(i%12>=t2 and i%12< t3):\n",
    "        x.append(prx3.subs({t:i}))\n",
    "        y.append(pry3.subs({t:i}))\n",
    "    elif(i%12>=t3):\n",
    "        x.append(prx4.subs({t:i}))\n",
    "        y.append(pry4.subs({t:i}))\n",
    "plt.plot(x,y,'o')\n"
   ]
  },
  {
   "cell_type": "code",
   "execution_count": 66,
   "metadata": {
    "scrolled": true
   },
   "outputs": [
    {
     "name": "stdout",
     "output_type": "stream",
     "text": [
      "tl = 81.93451151369264\n",
      "s  = 6.827875959474387\n",
      "O  = 2.0690533210528446\n",
      "periods are:| 0 | 4.481627988209031 | 6.0 | 10.48162798820903 | 12.0\n",
      "Test: -1.00000000000000\n"
     ]
    },
    {
     "data": {
      "text/plain": [
       "[<matplotlib.lines.Line2D at 0x237a1bb8608>]"
      ]
     },
     "execution_count": 66,
     "metadata": {},
     "output_type": "execute_result"
    },
    {
     "data": {
      "image/png": "[encoded data removed]",
      "text/plain": [
       "<Figure size 432x288 with 1 Axes>"
      ]
     },
     "metadata": {
      "needs_background": "light"
     },
     "output_type": "display_data"
    }
   ],
   "source": [
    "import sympy as sp\n",
    "from math import pi\n",
    "import numpy as np\n",
    "import matplotlib.pyplot as plt\n",
    "\n",
    "wc = 5\n",
    "wb = 6\n",
    "\n",
    "l = 30.6\n",
    "r = 3.3\n",
    "h = 4.4\n",
    "w = 7.3\n",
    "\n",
    "tl = 2*l +2*pi*r\n",
    "s = tl*wc/60\n",
    "o = s/r\n",
    "a = pi/5\n",
    "print(\"tl =\", tl)\n",
    "print(\"s  =\" ,s )\n",
    "print(\"O  =\" , o)\n",
    "\n",
    "t0 =0\n",
    "t1 = l/s\n",
    "t2 = t1+ pi*r/s\n",
    "t3 = t2+ l/s\n",
    "t4 = t3 + pi*r/s\n",
    "print(\"periods are:|\",t0,\"|\",t1,\"|\",t2,\"|\",t3,\"|\",t4)\n",
    "\n",
    "t = sp.symbols('t')\n",
    "print(\"Test:\",sp.cos(pi))\n",
    "\n",
    "\n",
    "tvals   = [i for i in np.arange(0,120,0.1)] # range of graph\n",
    "#TMODval = [i%12 for i in np.arange(0,24,0.1)] # range of graph\n",
    "# Zone 1\n",
    "#p\n",
    "px1 = (r+h)\n",
    "py1 = (s*(t)-l/2+w/2)\n",
    "#pr\n",
    "prx1 = px1*sp.cos(a*t)-py1*sp.sin(a*t)\n",
    "pry1 = py1*sp.sin(a*t)+py1*sp.cos(a*t)\n",
    "# zone 2\n",
    "px2 = (r+h)*sp.cos(o*(t-t1))+w/2*(sp.cos(o*(t-t1)+pi/2))\n",
    "py2 = l/2 + (r+h)*sp.sin(o*(t-t1))+w/2*(sp.sin(o*(t-t1)+pi/2))\n",
    "#pr\n",
    "prx2 = px2*sp.cos(a*t)-py2*sp.sin(a*t)\n",
    "pry2 = py2*sp.sin(a*t)+py2*sp.cos(a*t)\n",
    "# Zone 3\n",
    "px3 = -1*(r+h)\n",
    "py3 = -1*(s*(t-t2)-l/2+w/2)\n",
    "#pr\n",
    "prx3 = px3*sp.cos(a*t)-py3*sp.sin(a*t)\n",
    "pry3 = py3*sp.sin(a*t)+py3*sp.cos(a*t)\n",
    "\n",
    "# zone 4\n",
    "px4 = -1*((r+h)*sp.cos(o*(t-t3))+w/2*(sp.cos(o*(t-t3)+pi/2)))\n",
    "py4 = -1*(l/2 + (r+h)*sp.sin(o*(t-t3))+w/2*(sp.sin(o*(t-t3)+pi/2)))\n",
    "# pr\n",
    "prx4 = px4*sp.cos(a*t)-py4*sp.sin(a*t)\n",
    "pry4 = py4*sp.sin(a*t)+py4*sp.cos(a*t)\n",
    "\n",
    "x = []\n",
    "y = []\n",
    "\n",
    "for i in tvals:\n",
    "    if (i%12>=0 and i%12< t1):\n",
    "        x.append(prx1.subs({t:i}))\n",
    "        y.append(pry1.subs({t:i}))\n",
    "    elif(i%12>=t1 and i%12< t2):\n",
    "        x.append(prx2.subs({t:i}))\n",
    "        y.append(pry2.subs({t:i}))\n",
    "    elif(i%12>=t2 and i%12< t3):\n",
    "        x.append(prx3.subs({t:i}))\n",
    "        y.append(pry3.subs({t:i}))\n",
    "    elif(i%12>=t3):\n",
    "        x.append(prx4.subs({t:i}))\n",
    "        y.append(pry4.subs({t:i}))\n",
    "plt.plot(x,y,'o')\n"
   ]
  },
  {
   "cell_type": "code",
   "execution_count": null,
   "metadata": {},
   "outputs": [],
   "source": []
  }
 ],
 "metadata": {
  "kernelspec": {
   "display_name": "Python 3",
   "language": "python",
   "name": "python3"
  },
  "language_info": {
   "codemirror_mode": {
    "name": "ipython",
    "version": 3
   },
   "file_extension": ".py",
   "mimetype": "text/x-python",
   "name": "python",
   "nbconvert_exporter": "python",
   "pygments_lexer": "ipython3",
   "version": "3.7.4"
  }
 },
 "nbformat": 4,
 "nbformat_minor": 2
}
