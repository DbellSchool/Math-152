{
 "cells": [
  {
   "cell_type": "code",
   "execution_count": 6,
   "metadata": {},
   "outputs": [],
   "source": [
    "# Lab 5\n",
    "\n",
    "#TA : Alex\n",
    "\n",
    "# Leilani Wilkinson, David Bell, Harrison LaCroix, Xavier Flores\n",
    "# http://calclab.math.tamu.edu/Python/LabSched152.html\n",
    "\n",
    "import matplotlib.pyplot as plt\n",
    "from sympy import *"
   ]
  },
  {
   "cell_type": "code",
   "execution_count": 7,
   "metadata": {},
   "outputs": [
    {
     "name": "stdout",
     "output_type": "stream",
     "text": [
      "Area of A2 is -25*sqrt(3)/2 + 50*pi/3\n",
      "Area of A1 is 12.5*sqrt(3)\n",
      "Area of the sector is 16.6666666666667*pi\n",
      "The area of A1+A2 is 50*pi/3\n"
     ]
    }
   ],
   "source": [
    "#Question 1\n",
    "#Part A\n",
    "x = symbols('x')\n",
    "r = 10\n",
    "a = pi/3\n",
    "up = r\n",
    "low = r*cos(a)\n",
    "A2 = integrate(sqrt(r**2-x**2), (x,low,up))\n",
    "print(\"Area of A2 is\",A2)\n",
    "\n",
    "#Part B\n",
    "A1 = .5*low*r*sin(a)\n",
    "print(\"Area of A1 is\",A1)\n",
    "\n",
    "#Part C\n",
    "area = .5*r**2*a\n",
    "print(\"Area of the sector is\",area)\n",
    "print(\"The area of A1+A2 is\",(A2+A1))\n"
   ]
  },
  {
   "cell_type": "code",
   "execution_count": 8,
   "metadata": {},
   "outputs": [
    {
     "name": "stdout",
     "output_type": "stream",
     "text": [
      "Solution is {A: 3/2, B: -1, C: -1/2, D: 1}\n",
      "The partial fraction expansion is (1 - x/2)/(x**2 + 1) + (3*x/2 - 1)/(x**2 + 3)\n",
      "\n",
      "-(x - 2)/(2*(x**2 + 1)) + (3*x - 2)/(2*(x**2 + 3))\n",
      "\n",
      "-log(x**2 + 1)/4 + 3*log(x**2 + 3)/4 + atan(x) - sqrt(3)*atan(sqrt(3)*x/3)/3\n"
     ]
    }
   ],
   "source": [
    "#Question 2\n",
    "#Part A\n",
    "A,B,C,D = symbols('A B C D')\n",
    "LHS = (A*x+B)*(x**2+1)+(C*x+D)*(x**2+3)\n",
    "RHS = x**3+2\n",
    "LHSexp = expand(LHS)\n",
    "collect(LHSexp,x)\n",
    "eq1 = A+C-1 #=1\n",
    "eq2 = B+D #=0\n",
    "eq3 = A+3*C #=0\n",
    "eq4 = B+3*D-2 #=2\n",
    "coeffs = solve([eq1,eq2,eq3,eq4],[A,B,C,D])\n",
    "print(\"Solution is\",coeffs)\n",
    "pfracexpand = (A*x+B)/(x**2+3)+(C*x+D)/(x**2+1)\n",
    "fintegrate = pfracexpand.subs(coeffs)\n",
    "print(\"The partial fraction expansion is\",fintegrate)\n",
    "print()\n",
    "\n",
    "#Part B\n",
    "f = (x**3+2)/(x**4+4*x**2+3)\n",
    "check = apart(f,x)\n",
    "print(check)\n",
    "print()\n",
    "\n",
    "#Part C\n",
    "integral = integrate(check, x)\n",
    "print(integral)"
   ]
  },
  {
   "cell_type": "code",
   "execution_count": 9,
   "metadata": {
    "scrolled": true
   },
   "outputs": [
    {
     "name": "stdout",
     "output_type": "stream",
     "text": [
      "The indefinit intigral for f(x) is: -log(exp(x) + 1) + 2*log(exp(x) + 2)\n",
      "\n",
      "The partial fraction decomposition is: 2/(u + 2) - 1/(u + 1)\n",
      "The intrigral of the decomposition is -log(exp(x) + 1) + 2*log(exp(x) + 2)\n",
      "\n",
      "f(x) intigrated direactly is: -log(exp(x) + 1) + 2*log(exp(x) + 2)\n"
     ]
    }
   ],
   "source": [
    "#Question 3\n",
    "u,x = symbols('u x')\n",
    "# Part a\n",
    "fu = u/(u**2+3*u+2)\n",
    "inti_fu = integrate(fu,u)\n",
    "ffx = inti_fu.subs(u,exp(x))\n",
    "print(\"The indefinit intigral for f(x) is:\",ffx)\n",
    "print()\n",
    "\n",
    "# part B\n",
    "decomp = apart(fu) # fraction decomposition \n",
    "print(\"The partial fraction decomposition is:\",decomp)\n",
    "inti_decomp_u = integrate(decomp,u)\n",
    "inti_decomp_x = inti_fu.subs(u,exp(x))\n",
    "print(\"The intrigral of the decomposition is\",inti_decomp_x)\n",
    "print()\n",
    "\n",
    "fx= exp(2*x)/(exp(2*x)+3*exp(x)+2)\n",
    "inti_fx =integrate(fx,x)\n",
    "print(\"f(x) intigrated direactly is:\", inti_fx)\n",
    "\n",
    "\n"
   ]
  },
  {
   "cell_type": "code",
   "execution_count": 10,
   "metadata": {},
   "outputs": [
    {
     "name": "stdout",
     "output_type": "stream",
     "text": [
      "The area R rof 1/x form a--> b is: oo\n",
      "\n",
      "The Volume R of 1/x rotated around the X axsi from a--> b is: pi\n",
      "\n"
     ]
    },
    {
     "data": {
      "image/png": "[encoded data removed]",
      "text/plain": [
       "<Figure size 432x288 with 1 Axes>"
      ]
     },
     "metadata": {
      "needs_background": "light"
     },
     "output_type": "display_data"
    },
    {
     "name": "stdout",
     "output_type": "stream",
     "text": [
      "The intigral diverges b/c ln|t| aproches infinity \n"
     ]
    }
   ],
   "source": [
    "#Question 4\n",
    "a,b, x = symbols('a b x')\n",
    "y = 1/x\n",
    "# part A\n",
    "A = integrate((y),(x,1,oo)) # calculates area fom a->b\n",
    "print(\"The area R rof 1/x form a--> b is:\",A)\n",
    "print()\n",
    "\n",
    "# part B\n",
    "V =pi*integrate((y)**2,(x,1,oo)) #calculates volume a-->b\n",
    "print(\"The Volume R of 1/x rotated around the X axsi from a--> b is:\",V)\n",
    "print()\n",
    "\n",
    "\n",
    "# part C\n",
    "dS = 2*pi*x**(-1)*(1+(-x**(-2))**2)**(1/2)  \n",
    "\n",
    "g1 = plot(dS,(x,1,10),show = False)\n",
    "g2 = plot(y,(x,1,10),show = False)\n",
    "g1.extend(g2)\n",
    "g1.show()\n",
    "print(\"The intigral diverges b/c ln|t| aproches infinity \")"
   ]
  },
  {
   "cell_type": "code",
   "execution_count": 6,
   "metadata": {},
   "outputs": [],
   "source": [
    "#END"
   ]
  }
 ],
 "metadata": {
  "kernelspec": {
   "display_name": "Python 3",
   "language": "python",
   "name": "python3"
  },
  "language_info": {
   "codemirror_mode": {
    "name": "ipython",
    "version": 3
   },
   "file_extension": ".py",
   "mimetype": "text/x-python",
   "name": "python",
   "nbconvert_exporter": "python",
   "pygments_lexer": "ipython3",
   "version": "3.7.4"
  }
 },
 "nbformat": 4,
 "nbformat_minor": 2
}
