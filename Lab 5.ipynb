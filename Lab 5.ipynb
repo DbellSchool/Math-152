{
 "cells": [
  {
   "cell_type": "code",
   "execution_count": 1,
   "metadata": {},
   "outputs": [],
   "source": [
    "# Lab 5\n",
    "\n",
    "#TA : Alex\n",
    "\n",
    "# Leilani Wilkinson, David Bell, Harrison LaCroix, Xavier Flores\n",
    "# http://calclab.math.tamu.edu/Python/LabSched152.html\n",
    "\n",
    "import matplotlib.pyplot as plt\n",
    "from sympy import *"
   ]
  },
  {
   "cell_type": "code",
   "execution_count": null,
   "metadata": {},
   "outputs": [],
   "source": [
    "#p1"
   ]
  },
  {
   "cell_type": "code",
   "execution_count": null,
   "metadata": {},
   "outputs": [],
   "source": [
    "#p2"
   ]
  },
  {
   "cell_type": "code",
   "execution_count": 19,
   "metadata": {},
   "outputs": [
    {
     "name": "stdout",
     "output_type": "stream",
     "text": [
      "The indefinit intigral for f(x) is: log(exp(x) + 1) - log(exp(x) + 2)\n",
      "\n",
      "partial fraction decomposition is: -1/(u + 2) + 1/(u + 1)\n",
      "the intrigral of the decomposition is log(exp(x) + 1) - log(exp(x) + 2)\n",
      "\n",
      "f(x) intigrated direactly is: exp(2*x)/(exp(2*x) + 3*exp(x) + 2)\n"
     ]
    }
   ],
   "source": [
    "#p3\n",
    "u,x = symbols('u x')\n",
    "# Part a\n",
    "fu = 1/(u**2+3*u+2)\n",
    "inti_fu = integrate(fu,u)\n",
    "ffx = inti_fu.subs(u,exp(x))\n",
    "print(\"The indefinit intigral for f(x) is:\",ffx)\n",
    "print()\n",
    "\n",
    "# part B\n",
    "decomp = -1/(u+2)+1/(u+1)\n",
    "print(\"the partial fraction decomposition is:\",decomp)\n",
    "inti_decomp_u = integrate(decomp,u)\n",
    "inti_decomp_x = inti_fu.subs(u,exp(x))\n",
    "print(\"The intrigral of the decomposition is\",inti_decomp_x)\n",
    "print()\n",
    "\n",
    "fx= exp(2*x)/(exp(2*x)+3*exp(x)+2)\n",
    "inti_fx =integrate(fx,x)\n",
    "print(\"f(x) intigrated direactly is:\", fx)\n",
    "\n",
    "\n"
   ]
  },
  {
   "cell_type": "code",
   "execution_count": 20,
   "metadata": {},
   "outputs": [
    {
     "name": "stdout",
     "output_type": "stream",
     "text": [
      "the area R rof 1/x form a--> b is: -log(a) + log(b)\n",
      "\n",
      "the Volume R of 1/x rotated around the X axsi from a--> b is: pi*(-1/b + 1/a)\n",
      "this is a finite intigral\n",
      "\n"
     ]
    },
    {
     "data": {
      "image/png": "[encoded data removed]",
      "text/plain": [
       "<Figure size 432x288 with 1 Axes>"
      ]
     },
     "metadata": {
      "needs_background": "light"
     },
     "output_type": "display_data"
    }
   ],
   "source": [
    "#p4\n",
    "a,b, x = symbols('a b x')\n",
    "y = 1/x\n",
    "# part A\n",
    "A = integrate((y),(x,a,b)) # calculates area fom a->b\n",
    "print(\"The area R rof 1/x form a--> b is:\",A)\n",
    "print()\n",
    "\n",
    "# part B\n",
    "V =pi*integrate((y)**2,(x,a,b)) #calculates volume a-->b\n",
    "print(\"The Volume R of 1/x rotated around the X axsi from a--> b is:\",V)\n",
    "print(\"This is a finite intigral\")\n",
    "print()\n",
    "\n",
    "\n",
    "# part C\n",
    "S = 2*pi*integrate(y*(1+(diff(y,x))**2)**(1/2),(x,a,b))\n",
    "dS = 2*pi*(y)*(1+(diff(y,x))**2)**(1/2)  \n",
    "\n",
    "g1 = plot(S.subs({a:1,b:10}),(x,1,10),show = False)\n",
    "g2 = plot(y,(x,1,10),show = False)\n",
    "g1.extend(g2)\n",
    "g1.show()"
   ]
  },
  {
   "cell_type": "code",
   "execution_count": null,
   "metadata": {},
   "outputs": [],
   "source": []
  }
 ],
 "metadata": {
  "kernelspec": {
   "display_name": "Python 3",
   "language": "python",
   "name": "python3"
  },
  "language_info": {
   "codemirror_mode": {
    "name": "ipython",
    "version": 3
   },
   "file_extension": ".py",
   "mimetype": "text/x-python",
   "name": "python",
   "nbconvert_exporter": "python",
   "pygments_lexer": "ipython3",
   "version": "3.7.4"
  }
 },
 "nbformat": 4,
 "nbformat_minor": 2
}
